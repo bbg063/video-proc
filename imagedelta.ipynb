{
 "metadata": {
  "name": "",
  "signature": "sha256:4a4cfb49930bac6c0283a648c6a07304e453c91990a32e861fe63cd46a7fb44e"
 },
 "nbformat": 3,
 "nbformat_minor": 0,
 "worksheets": [
  {
   "cells": [
    {
     "cell_type": "code",
     "collapsed": false,
     "input": [
      "import numpy, cv2"
     ],
     "language": "python",
     "metadata": {},
     "outputs": [],
     "prompt_number": 1
    },
    {
     "cell_type": "code",
     "collapsed": false,
     "input": [
      "camera = cv2.VideoCapture(\"test2.mp4\")"
     ],
     "language": "python",
     "metadata": {},
     "outputs": [],
     "prompt_number": 2
    },
    {
     "cell_type": "code",
     "collapsed": false,
     "input": [
      "_, frame1 = camera.read()\n",
      "_, frame2 = camera.read()"
     ],
     "language": "python",
     "metadata": {},
     "outputs": [],
     "prompt_number": 3
    },
    {
     "cell_type": "code",
     "collapsed": false,
     "input": [
      "temp = cv2.bitwise_xor(frame1,frame1)"
     ],
     "language": "python",
     "metadata": {},
     "outputs": [],
     "prompt_number": 4
    },
    {
     "cell_type": "code",
     "collapsed": false,
     "input": [
      "def gray(frame):\n",
      "    gray = cv2.cvtColor(frame, cv2.COLOR_BGR2GRAY)\n",
      "    gray = cv2.GaussianBlur(gray, (13, 13), 0)\n",
      "    return gray"
     ],
     "language": "python",
     "metadata": {},
     "outputs": [],
     "prompt_number": 5
    },
    {
     "cell_type": "code",
     "collapsed": false,
     "input": [
      "def add_image(frame, dframe, temp):\n",
      "    (_, mask) = cv2.threshold(dframe, 1, 255, cv2.THRESH_BINARY)\n",
      "\n",
      "    new = cv2.bitwise_and(frame, frame, mask = cv2.bitwise_not(mask))\n",
      "    old = cv2.bitwise_and(temp, temp, mask = mask)\n",
      "    temp = cv2.add(new, old)\n",
      "    return temp"
     ],
     "language": "python",
     "metadata": {},
     "outputs": [],
     "prompt_number": 6
    },
    {
     "cell_type": "code",
     "collapsed": false,
     "input": [
      "while True:\n",
      "    frame1 = frame2\n",
      "    for i in range(10): _, frame2 = camera.read()\n",
      "    if not _:\n",
      "        break\n",
      "    \n",
      "    gray1 = gray(frame1)\n",
      "    gray2 = gray(frame2)\n",
      "    dframe = cv2.absdiff(gray1, gray2)\n",
      "    \n",
      "    temp = add_image(frame2, dframe, temp)\n",
      "    \n",
      "    cv2.imshow('original video', frame1)\n",
      "    cv2.imshow('delta frame', dframe)\n",
      "    cv2.imshow('record', temp)\n",
      "    \n",
      "    cv2.waitKey(1)\n"
     ],
     "language": "python",
     "metadata": {},
     "outputs": [],
     "prompt_number": 7
    }
   ],
   "metadata": {}
  }
 ]
}
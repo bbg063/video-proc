{
 "metadata": {
  "name": "",
  "signature": "sha256:559e4d42ddd30182008a59dd6f1428151a8536a5471ded7dea20cbd23285a20f"
 },
 "nbformat": 3,
 "nbformat_minor": 0,
 "worksheets": [
  {
   "cells": [
    {
     "cell_type": "code",
     "collapsed": false,
     "input": [
      "import numpy, cv2\n",
      "\n",
      "camera = cv2.VideoCapture(\"test4-1.mp4\")\n",
      "\n",
      "_, frame1 = camera.read()\n",
      "_, frame2 = camera.read()\n",
      "\n",
      "temp = cv2.bitwise_xor(frame1,frame1)\n",
      "\n",
      "def gray(frame):\n",
      "    gray = cv2.cvtColor(frame, cv2.COLOR_BGR2GRAY)\n",
      "    gray = cv2.GaussianBlur(gray, (5, 5), 0)\n",
      "    return gray\n",
      "\n",
      "cc = list()\n",
      "\n",
      "while True:\n",
      "    frame1 = frame2\n",
      "    for i in range(10): _, frame2 = camera.read()\n",
      "    if not _:\n",
      "        break\n",
      "    \n",
      "    gray1 = gray(frame1)\n",
      "    gray2 = gray(frame2)\n",
      "    dframe = cv2.absdiff(gray1, gray2)\n",
      "    \n",
      "    (_, mask) = cv2.threshold(dframe, 5, 255, cv2.THRESH_BINARY)\n",
      "    mask = cv2.dilate(mask, None, iterations = 6)\n",
      "\n",
      "    contours, hierarcy = cv2.findContours(mask, 1, 2) \n",
      "\n",
      "    cc.append(contours)\n",
      "    if len(cc) > 5: cc.pop(0)\n",
      "    \n",
      "    for contours in cc:\n",
      "        for c in contours:\n",
      "            x, y, w, h = cv2.boundingRect(c)\n",
      "            cv2.rectangle(mask, (x, y), (x + w, y + h), 255, -1)\n",
      "    \n",
      "    new = cv2.bitwise_and(frame2, frame2, mask = cv2.bitwise_not(mask))\n",
      "    old = cv2.bitwise_and(temp, temp, mask = mask)\n",
      "    temp = cv2.add(new, old)\n",
      "    \n",
      "    cv2.imshow('original video', frame1)\n",
      "    cv2.imshow('delta frame', dframe)\n",
      "    cv2.imshow('mask', mask)\n",
      "    cv2.imshow('record', temp)\n",
      "    \n",
      "    cv2.waitKey(1)\n"
     ],
     "language": "python",
     "metadata": {},
     "outputs": []
    },
    {
     "cell_type": "code",
     "collapsed": false,
     "input": [],
     "language": "python",
     "metadata": {},
     "outputs": []
    }
   ],
   "metadata": {}
  }
 ]
}
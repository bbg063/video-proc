{
 "metadata": {
  "name": "",
  "signature": "sha256:71cf6c8ac0201709d72f59b77fff1274deb15c29bc1e163d398c4bf713dd4ab7"
 },
 "nbformat": 3,
 "nbformat_minor": 0,
 "worksheets": [
  {
   "cells": [
    {
     "cell_type": "code",
     "collapsed": false,
     "input": [
      "import numpy, cv2, imutils"
     ],
     "language": "python",
     "metadata": {},
     "outputs": [],
     "prompt_number": 2
    },
    {
     "cell_type": "code",
     "collapsed": false,
     "input": [
      "camera = cv2.VideoCapture(\"test2.mp4\")"
     ],
     "language": "python",
     "metadata": {},
     "outputs": [],
     "prompt_number": 3
    },
    {
     "cell_type": "code",
     "collapsed": false,
     "input": [
      "for i in range(60):_, frame1 = camera.read()\n",
      "for i in range(10):_, frame2 = camera.read()\n",
      "temp = cv2.bitwise_xor(frame1,frame1)"
     ],
     "language": "python",
     "metadata": {},
     "outputs": [],
     "prompt_number": 14
    },
    {
     "cell_type": "code",
     "collapsed": false,
     "input": [
      "def gray(frame):\n",
      "    gray = cv2.cvtColor(frame, cv2.COLOR_BGR2GRAY)\n",
      "    gray = cv2.GaussianBlur(gray, (21, 21), 0)\n",
      "    return gray"
     ],
     "language": "python",
     "metadata": {},
     "outputs": [],
     "prompt_number": 5
    },
    {
     "cell_type": "code",
     "collapsed": false,
     "input": [
      "gray1 = gray(frame1)\n",
      "gray2 = gray(frame2)"
     ],
     "language": "python",
     "metadata": {},
     "outputs": [],
     "prompt_number": 6
    },
    {
     "cell_type": "code",
     "collapsed": false,
     "input": [
      "dframe = cv2.absdiff(gray1, gray2)\n",
      "cv2.imshow('', dframe)\n",
      "#_ = cv2.waitKey(0)"
     ],
     "language": "python",
     "metadata": {},
     "outputs": [],
     "prompt_number": 7
    },
    {
     "cell_type": "code",
     "collapsed": false,
     "input": [
      "ret, mask = cv2.threshold(dframe, 2, 255, cv2.THRESH_BINARY)\n",
      "mask_inv = cv2.bitwise_not(mask)\n",
      "\n",
      "res = cv2.bitwise_and(frame1, frame1, mask = mask_inv)\n",
      "cv2.imshow(\"\", res)\n",
      "cv2.waitKey(0)\n"
     ],
     "language": "python",
     "metadata": {},
     "outputs": [
      {
       "metadata": {},
       "output_type": "pyout",
       "prompt_number": 16,
       "text": [
        "-1"
       ]
      }
     ],
     "prompt_number": 16
    },
    {
     "cell_type": "code",
     "collapsed": false,
     "input": [],
     "language": "python",
     "metadata": {},
     "outputs": []
    }
   ],
   "metadata": {}
  }
 ]
}